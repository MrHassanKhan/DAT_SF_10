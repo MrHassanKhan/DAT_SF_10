{
 "metadata": {
  "name": "",
  "signature": "sha256:f7735fd2d61613abb2673e53a93aa78559b8b81e6a50633c6c73ce6e0f3fb062"
 },
 "nbformat": 3,
 "nbformat_minor": 0,
 "worksheets": [
  {
   "cells": [
    {
     "cell_type": "heading",
     "level": 3,
     "metadata": {},
     "source": [
      "EXERCISE 1 - IMPORT JSON FILE"
     ]
    },
    {
     "cell_type": "code",
     "collapsed": false,
     "input": [
      "import json\n",
      "\n",
      "with open('./ga_hw_logins.json', 'rb') as f:\n",
      "    logins = json.loads(f.read())"
     ],
     "language": "python",
     "metadata": {},
     "outputs": [],
     "prompt_number": 1
    },
    {
     "cell_type": "code",
     "collapsed": false,
     "input": [
      "print 'List attributes:'\n",
      "print type(logins)\n",
      "print len(logins)\n",
      "print logins[:10]"
     ],
     "language": "python",
     "metadata": {},
     "outputs": [
      {
       "output_type": "stream",
       "stream": "stdout",
       "text": [
        "List attributes:\n",
        "<type 'list'>\n",
        "2267\n",
        "[u'2014-01-20 00:01:31', u'2014-01-20 00:01:51', u'2014-01-20 00:02:12', u'2014-01-20 00:03:13', u'2014-01-20 00:05:34', u'2014-01-20 00:08:15', u'2014-01-20 00:08:18', u'2014-01-20 00:13:10', u'2014-01-20 00:17:32', u'2014-01-20 00:20:31']\n"
       ]
      }
     ],
     "prompt_number": 2
    },
    {
     "cell_type": "heading",
     "level": 3,
     "metadata": {},
     "source": [
      "EXERCISE 2 - CONVERT STRINGS TO DATETIME"
     ]
    },
    {
     "cell_type": "code",
     "collapsed": false,
     "input": [
      "import datetime as dt\n",
      "\n",
      "login_dates = []\n",
      "for ts in logins:\n",
      "    temp_date = dt.datetime.strptime(ts,'%Y-%m-%d %H:%M:%S')\n",
      "    login_dates.append(temp_date)\n",
      "    "
     ],
     "language": "python",
     "metadata": {},
     "outputs": [],
     "prompt_number": 4
    },
    {
     "cell_type": "code",
     "collapsed": false,
     "input": [
      "print 'List attributes:'\n",
      "print type(login_dates)\n",
      "print len(login_dates)\n",
      "print login_dates[:10]\n",
      "\n",
      "print '\\nList item attributes:'\n",
      "print type(login_dates[0])\n",
      "print login_dates[0]\n",
      "\n",
      "print '\\nDatetime components:'\n",
      "print login_dates[0].date()\n",
      "print login_dates[0].hour\n",
      "print login_dates[0].minute\n",
      "print login_dates[0].second\n"
     ],
     "language": "python",
     "metadata": {},
     "outputs": [
      {
       "output_type": "stream",
       "stream": "stdout",
       "text": [
        "List attributes:\n",
        "<type 'list'>\n",
        "2267\n",
        "[datetime.datetime(2014, 1, 20, 0, 1, 31), datetime.datetime(2014, 1, 20, 0, 1, 51), datetime.datetime(2014, 1, 20, 0, 2, 12), datetime.datetime(2014, 1, 20, 0, 3, 13), datetime.datetime(2014, 1, 20, 0, 5, 34), datetime.datetime(2014, 1, 20, 0, 8, 15), datetime.datetime(2014, 1, 20, 0, 8, 18), datetime.datetime(2014, 1, 20, 0, 13, 10), datetime.datetime(2014, 1, 20, 0, 17, 32), datetime.datetime(2014, 1, 20, 0, 20, 31)]\n",
        "\n",
        "List item attributes:\n",
        "<type 'datetime.datetime'>\n",
        "2014-01-20 00:01:31\n",
        "\n",
        "Datetime components:\n",
        "2014-01-20\n",
        "0\n",
        "1\n",
        "31\n"
       ]
      }
     ],
     "prompt_number": 18
    },
    {
     "cell_type": "heading",
     "level": 3,
     "metadata": {},
     "source": [
      "EXERCISE 3 - CREATE SQLITE DATABASE"
     ]
    },
    {
     "cell_type": "code",
     "collapsed": false,
     "input": [
      "import sqlite3\n",
      "\n",
      "# Create empty database\n",
      "open('./logins.db','w').close()\n",
      "\n",
      "# Create empty sql table in database\n",
      "db = sqlite3.connect('./logins.db')\n",
      "conn = db.cursor()\n",
      "conn.execute(\"\"\"CREATE TABLE logins(\n",
      "    timestamp text,\n",
      "    date text,\n",
      "    hour int\n",
      "    )\"\"\")"
     ],
     "language": "python",
     "metadata": {},
     "outputs": [
      {
       "metadata": {},
       "output_type": "pyout",
       "prompt_number": 22,
       "text": [
        "<sqlite3.Cursor at 0x104db40a0>"
       ]
      }
     ],
     "prompt_number": 22
    },
    {
     "cell_type": "code",
     "collapsed": false,
     "input": [
      "ls *.db"
     ],
     "language": "python",
     "metadata": {},
     "outputs": [
      {
       "output_type": "stream",
       "stream": "stdout",
       "text": [
        "logins.db\r\n"
       ]
      }
     ],
     "prompt_number": 23
    },
    {
     "cell_type": "code",
     "collapsed": false,
     "input": [
      "for ts in login_dates:\n",
      "    temp_date = ts.date()\n",
      "    temp_hour = ts.hour \n",
      "    conn.execute('INSERT INTO logins VALUES (?,?,?)', (ts,temp_date,temp_hour))\n",
      "db.commit()"
     ],
     "language": "python",
     "metadata": {},
     "outputs": [],
     "prompt_number": 25
    },
    {
     "cell_type": "heading",
     "level": 3,
     "metadata": {},
     "source": [
      "EXERCISE 4 - QUERY SQLITE DATABASE"
     ]
    },
    {
     "cell_type": "code",
     "collapsed": false,
     "input": [
      "conn.execute(\"SELECT date, hour, COUNT(*) FROM logins GROUP BY date, hour ORDER BY COUNT(*) DESC\")\n",
      "results = conn.fetchall()"
     ],
     "language": "python",
     "metadata": {},
     "outputs": [],
     "prompt_number": 27
    },
    {
     "cell_type": "code",
     "collapsed": false,
     "input": [
      "print results[:10],'\\n'\n",
      "\n",
      "print \"The most logins occured on {0} during {1}:00 - {1}:59.\".format(results[0][0], results[0][1])\n",
      "print \"There were {count} logins during the hour.\".format(count=results[0][2])"
     ],
     "language": "python",
     "metadata": {},
     "outputs": [
      {
       "output_type": "stream",
       "stream": "stdout",
       "text": [
        "[(u'2014-01-22', 2, 54), (u'2014-01-22', 21, 51), (u'2014-01-22', 1, 50), (u'2014-01-22', 3, 48), (u'2014-01-23', 2, 48), (u'2014-01-23', 0, 47), (u'2014-01-23', 1, 45), (u'2014-01-21', 22, 44), (u'2014-01-23', 3, 42), (u'2014-01-22', 20, 40)] \n",
        "\n",
        "The most logins occured on 2014-01-22 during 2:00 - 2:59.\n",
        "There were 54 logins during the hour.\n"
       ]
      }
     ],
     "prompt_number": 33
    }
   ],
   "metadata": {}
  }
 ]
}